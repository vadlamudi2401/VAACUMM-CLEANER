{
  "nbformat": 4,
  "nbformat_minor": 0,
  "metadata": {
    "colab": {
      "provenance": [],
      "authorship_tag": "ABX9TyNDMXSvejW1TpHCvVOYjLIm",
      "include_colab_link": true
    },
    "kernelspec": {
      "name": "python3",
      "display_name": "Python 3"
    },
    "language_info": {
      "name": "python"
    }
  },
  "cells": [
    {
      "cell_type": "markdown",
      "metadata": {
        "id": "view-in-github",
        "colab_type": "text"
      },
      "source": [
        "<a href=\"https://colab.research.google.com/github/vadlamudi2401/VAACUMM-CLEANER/blob/main/vacumm_cleaner_3410.ipynb\" target=\"_parent\"><img src=\"https://colab.research.google.com/assets/colab-badge.svg\" alt=\"Open In Colab\"/></a>"
      ]
    },
    {
      "cell_type": "code",
      "execution_count": null,
      "metadata": {
        "colab": {
          "base_uri": "https://localhost:8080/"
        },
        "id": "Eav-cYRdknvN",
        "outputId": "c5f01a37-92c4-4a7e-c16e-43f8ae0bfb6e"
      },
      "outputs": [
        {
          "output_type": "stream",
          "name": "stdout",
          "text": [
            "enter the number of rows:2\n",
            "enter the number of columns:2\n",
            "Enter the clean status for each cell (1 - dirty, 0 - clean):\n",
            "Row1:0 1\n",
            "Row2:0 1\n",
            "\n",
            "Starting cleaning...\n",
            "\n",
            "The floor matrix is as below:\n",
            " >0<  1 \n",
            " 0  1 \n",
            "\n",
            "The floor matrix is as below:\n",
            " 0  >1< \n",
            " 0  1 \n",
            "\n",
            "The floor matrix is as below:\n",
            " 0  0 \n",
            " 0  >1< \n",
            "\n",
            "The floor matrix is as below:\n",
            " 0  0 \n",
            " >0<  0 \n",
            "\n",
            "\n",
            " All cells cleaned Final state of the floor:\n",
            "The floor matrix is as below:\n",
            " 0  0 \n",
            " 0  0 \n",
            "\n"
          ]
        }
      ],
      "source": [
        "def clean (floor):\n",
        "  row, col = len(floor), len(floor[0])\n",
        "  for i in range(row):\n",
        "    if i%2 == 0:\n",
        "      # Left to right\n",
        "      for j in range(col):\n",
        "        print_F(floor, i, j)\n",
        "        if floor[i][j] == 1 :\n",
        "          floor[i][j] = 0\n",
        "    else:\n",
        "      #Right to left\n",
        "      for j in range(col-1, -1, -1):\n",
        "        print_F(floor, i, j)\n",
        "        if floor[i][j] == 1 :\n",
        "          floor[i][j] = 0\n",
        "def print_F(floor, row, col):\n",
        "  \"\"\" print the grid showing the current vacumm cleaner position\"\"\"\n",
        "  print(\"The floor matrix is as below:\")\n",
        "  for r in range(len(floor)):\n",
        "    for c in range (len(floor[r])):\n",
        "      if r == row and c == col:\n",
        "        print(f\" >{floor[r][c]}< \", end='')\n",
        "      else:\n",
        "        print(f\" {floor[r][c]} \",end='')\n",
        "    print()\n",
        "  print()\n",
        "def main():\n",
        "  floor = []\n",
        "  try:\n",
        "    m = int(input(\"enter the number of rows:\"))\n",
        "    n = int(input(\"enter the number of columns:\"))\n",
        "  except  ValueError:\n",
        "    print(\"invalid input. Please enter integers\")\n",
        "    return\n",
        "  print(\"Enter the clean status for each cell (1 - dirty, 0 - clean):\")\n",
        "  for i in range(m):\n",
        "    while True:\n",
        "      try:\n",
        "        f = list(map(int, input(f\"Row{i+1}:\").split()))\n",
        "        if len(f) != n:\n",
        "          print(f\"plaese enter exactly {n} values.\")\n",
        "          continue\n",
        "        floor.append(f)\n",
        "        break\n",
        "      except ValueError:\n",
        "        print(\"Invalid input. please enter integers only.\")\n",
        "  print(\"\\nStarting cleaning...\\n\")\n",
        "  clean(floor)\n",
        "  print(\"\\n All cells cleaned Final state of the floor:\")\n",
        "  print_F(floor, -1, -1)\n",
        "if __name__ == \"__main__\":\n",
        "  main()"
      ]
    }
  ]
}